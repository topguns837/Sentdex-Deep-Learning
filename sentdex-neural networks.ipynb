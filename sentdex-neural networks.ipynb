{
 "cells": [
  {
   "cell_type": "code",
   "execution_count": 2,
   "id": "bba9d146",
   "metadata": {},
   "outputs": [],
   "source": [
    "import numpy as np\n",
    "import matplotlib.pyplot as plt\n",
    "import sys"
   ]
  },
  {
   "cell_type": "code",
   "execution_count": 3,
   "id": "a6e21e4a",
   "metadata": {},
   "outputs": [
    {
     "name": "stdout",
     "output_type": "stream",
     "text": [
      "[4.8, 1.21, 2.385]\n"
     ]
    }
   ],
   "source": [
    "inputs=[1,2,3,2.5]\n",
    "\n",
    "weights1=[0.2,0.8,-0.5,1.0]\n",
    "weights2=[0.5,-0.91,0.26,-0.5]\n",
    "weights3=[-0.26,-0.27,0.17,0.87]\n",
    "\n",
    "\n",
    "bias1=2\n",
    "bias2=3\n",
    "bias3=0.5\n",
    "\n",
    "outputs=[inputs[0]*weights1[0] + inputs[1]*weights1[1] + inputs[2]*weights1[2] + inputs[3]*weights1[3] + bias1,\n",
    "        inputs[0]*weights2[0] + inputs[1]*weights2[1] + inputs[2]*weights2[2] + inputs[3]*weights2[3] +  bias2,\n",
    "        inputs[0]*weights3[0] + inputs[1]*weights3[1] + inputs[2]*weights3[2] + inputs[3]*weights3[3] +  bias3]\n",
    "\n",
    "print(outputs)\n"
   ]
  },
  {
   "cell_type": "code",
   "execution_count": 4,
   "id": "829a9c8e",
   "metadata": {},
   "outputs": [
    {
     "name": "stdout",
     "output_type": "stream",
     "text": [
      "[(2, [0.2, 0.8, -0.5, 1.0]), (3, [0.5, -0.91, 0.26, -0.5]), (0.5, [-0.26, -0.27, 0.17, 0.87])]\n"
     ]
    }
   ],
   "source": [
    "weights=[[0.2,0.8,-0.5,1.0],\n",
    "        [0.5,-0.91,0.26,-0.5],\n",
    "        [-0.26,-0.27,0.17,0.87]]\n",
    "\n",
    "biases = [2,3,0.5]\n",
    "\n",
    "print(list(zip(biases,weights)))"
   ]
  },
  {
   "cell_type": "code",
   "execution_count": 5,
   "id": "842131b5",
   "metadata": {},
   "outputs": [
    {
     "name": "stdout",
     "output_type": "stream",
     "text": [
      "4.8\n"
     ]
    }
   ],
   "source": [
    "#trying out dotproduct\n",
    "\n",
    "import numpy as np\n",
    "\n",
    "inputs=[1,2,3,2.5]\n",
    "weights = [0.2,0.8,-0.5,1.0]\n",
    "bias= 2\n",
    "\n",
    "output =np.dot(weights,inputs) +  bias\n",
    "print(output)\n",
    "\n"
   ]
  },
  {
   "cell_type": "code",
   "execution_count": 6,
   "id": "206037d9",
   "metadata": {},
   "outputs": [
    {
     "name": "stdout",
     "output_type": "stream",
     "text": [
      "[4.8   1.21  2.385]\n"
     ]
    }
   ],
   "source": [
    "inputs=[1,2,3,2.5]\n",
    "\n",
    "weights=[[0.2,0.8,-0.5,1.0],\n",
    "        [0.5,-0.91,0.26,-0.5],\n",
    "        [-0.26,-0.27,0.17,0.87]]\n",
    "\n",
    "biases = [2,3,0.5]\n",
    "\n",
    "outputs=np.dot(weights,inputs) +  biases\n",
    "\n",
    "#no.dot(weights,inputs) = [np.dot(weight[0],inputs),np.dot(weight[1],inputs),np.dot(weight[2],inputs) ] \n",
    "\n",
    "print(outputs)"
   ]
  },
  {
   "cell_type": "code",
   "execution_count": 8,
   "id": "1cd63a9d",
   "metadata": {},
   "outputs": [
    {
     "name": "stdout",
     "output_type": "stream",
     "text": [
      "[[ 4.8    8.9   -0.09 ]\n",
      " [ 0.21  -1.29  -1.449]\n",
      " [ 3.885  3.04   0.026]]\n"
     ]
    }
   ],
   "source": [
    "#using batches \n",
    "\n",
    "inputs=[[1,2,3,2.5],\n",
    "        [2,5,1,2],\n",
    "        [-1.5,2.7,3.3,-0.8]]\n",
    "\n",
    "weights =[[0.2,0.8,-0.5,1.0],\n",
    "        [0.5,-0.91,0.26,-0.5],\n",
    "        [-0.26,-0.27,0.17,0.87]]\n",
    "\n",
    "biases = [2,3,0.5]\n",
    "\n",
    "#weights is (3X4) and inputs is also (3X4), so we need to transpose the inputs matrix for multiplication\n",
    "output = np.dot(weights,np.array(inputs).T) + biases\n",
    "print(output)"
   ]
  },
  {
   "cell_type": "code",
   "execution_count": 14,
   "id": "bb7868c9",
   "metadata": {},
   "outputs": [
    {
     "name": "stdout",
     "output_type": "stream",
     "text": [
      "[[ 0.5031  -1.04185 -2.03875]\n",
      " [ 0.2406  -2.283   -4.9879 ]\n",
      " [-0.99314  1.41254 -0.35655]]\n"
     ]
    }
   ],
   "source": [
    "\n",
    "\n",
    "weights2 = [[0.1,-0.14,0.5],\n",
    "            [-0.5,0.12,-0.33],\n",
    "            [-0.44,0.73,-0.13]]\n",
    "\n",
    "biases2 = [-1,2,-0.5]\n",
    "\n",
    "layer1_outputs = np.dot(inputs,np.array(weights).T) + biases\n",
    "\n",
    "layer2_outputs = np.dot(layer1_outputs , np.array(weights2).T) + biases2 \n",
    "\n",
    "print(layer2_outputs)"
   ]
  },
  {
   "cell_type": "code",
   "execution_count": 26,
   "id": "8aaee1ac",
   "metadata": {},
   "outputs": [
    {
     "name": "stdout",
     "output_type": "stream",
     "text": [
      "[[-0.00126082  0.01375158]\n",
      " [ 0.00545449  0.01595045]\n",
      " [ 0.00295563  0.01087262]]\n"
     ]
    }
   ],
   "source": [
    "#converting inputs into objects for cleaner and more dynamic code \n",
    "import numpy as np\n",
    "\n",
    "X = [[1,2,3,2.5],\n",
    "    [2,5,1,2],\n",
    "    [-1.5,2.7,3.3,-0.8]]\n",
    "\n",
    "np.random.seed(0)\n",
    "\n",
    "class Layer_Dense :\n",
    "    def __init__(self,n_inputs,n_neurons):\n",
    "        self.weights = 0.10*np.random.randn(n_inputs,n_neurons)\n",
    "        self.biases = np.zeros((1,n_neurons))\n",
    "\n",
    "    def forward(self,inputs):\n",
    "        self.output=(np.dot(inputs,self.weights)) + self.biases\n",
    "\n",
    "layer1=Layer_Dense(4,5)\n",
    "layer2=Layer_Dense(5,5)\n",
    "layer3=Layer_Dense(5,2)\n",
    "\n",
    "layer1.forward(X)\n",
    "#print(layer1.output)\n",
    "\n",
    "layer2.forward(layer1.output)\n",
    "#print(layer2.output)\n",
    "\n",
    "\n",
    "layer3.forward(layer2.output)\n",
    "print(layer3.output)\n"
   ]
  },
  {
   "cell_type": "code",
   "execution_count": null,
   "id": "b511e467",
   "metadata": {},
   "outputs": [],
   "source": []
  },
  {
   "cell_type": "code",
   "execution_count": null,
   "id": "02dc86b3",
   "metadata": {},
   "outputs": [],
   "source": []
  },
  {
   "cell_type": "code",
   "execution_count": null,
   "id": "1b893b4b",
   "metadata": {},
   "outputs": [],
   "source": []
  },
  {
   "cell_type": "code",
   "execution_count": null,
   "id": "9b3ddabb",
   "metadata": {},
   "outputs": [],
   "source": []
  },
  {
   "cell_type": "code",
   "execution_count": null,
   "id": "0ffae8ce",
   "metadata": {},
   "outputs": [],
   "source": []
  },
  {
   "cell_type": "code",
   "execution_count": null,
   "id": "c7898ee1",
   "metadata": {},
   "outputs": [],
   "source": []
  }
 ],
 "metadata": {
  "kernelspec": {
   "display_name": "Python 3 (ipykernel)",
   "language": "python",
   "name": "python3"
  },
  "language_info": {
   "codemirror_mode": {
    "name": "ipython",
    "version": 3
   },
   "file_extension": ".py",
   "mimetype": "text/x-python",
   "name": "python",
   "nbconvert_exporter": "python",
   "pygments_lexer": "ipython3",
   "version": "3.9.7"
  }
 },
 "nbformat": 4,
 "nbformat_minor": 5
}
