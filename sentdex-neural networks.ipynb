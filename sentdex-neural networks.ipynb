{
 "cells": [
  {
   "cell_type": "code",
   "execution_count": 2,
   "id": "bba9d146",
   "metadata": {},
   "outputs": [],
   "source": [
    "import numpy as np\n",
    "import matplotlib.pyplot as plt\n",
    "import sys"
   ]
  },
  {
   "cell_type": "code",
   "execution_count": 3,
   "id": "a6e21e4a",
   "metadata": {},
   "outputs": [
    {
     "name": "stdout",
     "output_type": "stream",
     "text": [
      "[4.8, 1.21, 2.385]\n"
     ]
    }
   ],
   "source": [
    "inputs=[1,2,3,2.5]\n",
    "\n",
    "weights1=[0.2,0.8,-0.5,1.0]\n",
    "weights2=[0.5,-0.91,0.26,-0.5]\n",
    "weights3=[-0.26,-0.27,0.17,0.87]\n",
    "\n",
    "\n",
    "bias1=2\n",
    "bias2=3\n",
    "bias3=0.5\n",
    "\n",
    "outputs=[inputs[0]*weights1[0] + inputs[1]*weights1[1] + inputs[2]*weights1[2] + inputs[3]*weights1[3] + bias1,\n",
    "        inputs[0]*weights2[0] + inputs[1]*weights2[1] + inputs[2]*weights2[2] + inputs[3]*weights2[3] +  bias2,\n",
    "        inputs[0]*weights3[0] + inputs[1]*weights3[1] + inputs[2]*weights3[2] + inputs[3]*weights3[3] +  bias3]\n",
    "\n",
    "print(outputs)\n"
   ]
  },
  {
   "cell_type": "code",
   "execution_count": 4,
   "id": "829a9c8e",
   "metadata": {},
   "outputs": [
    {
     "name": "stdout",
     "output_type": "stream",
     "text": [
      "[(2, [0.2, 0.8, -0.5, 1.0]), (3, [0.5, -0.91, 0.26, -0.5]), (0.5, [-0.26, -0.27, 0.17, 0.87])]\n"
     ]
    }
   ],
   "source": [
    "weights=[[0.2,0.8,-0.5,1.0],\n",
    "        [0.5,-0.91,0.26,-0.5],\n",
    "        [-0.26,-0.27,0.17,0.87]]\n",
    "\n",
    "biases = [2,3,0.5]\n",
    "\n",
    "print(list(zip(biases,weights)))"
   ]
  },
  {
   "cell_type": "code",
   "execution_count": 5,
   "id": "842131b5",
   "metadata": {},
   "outputs": [
    {
     "name": "stdout",
     "output_type": "stream",
     "text": [
      "4.8\n"
     ]
    }
   ],
   "source": [
    "#trying out dotproduct\n",
    "\n",
    "import numpy as np\n",
    "\n",
    "inputs=[1,2,3,2.5]\n",
    "weights = [0.2,0.8,-0.5,1.0]\n",
    "bias= 2\n",
    "\n",
    "output =np.dot(weights,inputs) +  bias\n",
    "print(output)\n",
    "\n"
   ]
  },
  {
   "cell_type": "code",
   "execution_count": 6,
   "id": "206037d9",
   "metadata": {},
   "outputs": [
    {
     "name": "stdout",
     "output_type": "stream",
     "text": [
      "[4.8   1.21  2.385]\n"
     ]
    }
   ],
   "source": [
    "inputs=[1,2,3,2.5]\n",
    "\n",
    "weights=[[0.2,0.8,-0.5,1.0],\n",
    "        [0.5,-0.91,0.26,-0.5],\n",
    "        [-0.26,-0.27,0.17,0.87]]\n",
    "\n",
    "biases = [2,3,0.5]\n",
    "\n",
    "outputs=np.dot(weights,inputs) +  biases\n",
    "\n",
    "#no.dot(weights,inputs) = [np.dot(weight[0],inputs),np.dot(weight[1],inputs),np.dot(weight[2],inputs) ] \n",
    "\n",
    "print(outputs)"
   ]
  },
  {
   "cell_type": "code",
   "execution_count": 8,
   "id": "1cd63a9d",
   "metadata": {},
   "outputs": [
    {
     "name": "stdout",
     "output_type": "stream",
     "text": [
      "[[ 4.8    8.9   -0.09 ]\n",
      " [ 0.21  -1.29  -1.449]\n",
      " [ 3.885  3.04   0.026]]\n"
     ]
    }
   ],
   "source": [
    "#using batches \n",
    "\n",
    "inputs=[[1,2,3,2.5],\n",
    "        [2,5,1,2],\n",
    "        [-1.5,2.7,3.3,-0.8]]\n",
    "\n",
    "weights =[[0.2,0.8,-0.5,1.0],\n",
    "        [0.5,-0.91,0.26,-0.5],\n",
    "        [-0.26,-0.27,0.17,0.87]]\n",
    "\n",
    "biases = [2,3,0.5]\n",
    "\n",
    "#weights is (3X4) and inputs is also (3X4), so we need to transpose the inputs matrix for multiplication\n",
    "output = np.dot(weights,np.array(inputs).T) + biases\n",
    "print(output)"
   ]
  },
  {
   "cell_type": "code",
   "execution_count": 14,
   "id": "bb7868c9",
   "metadata": {},
   "outputs": [
    {
     "name": "stdout",
     "output_type": "stream",
     "text": [
      "[[ 0.5031  -1.04185 -2.03875]\n",
      " [ 0.2406  -2.283   -4.9879 ]\n",
      " [-0.99314  1.41254 -0.35655]]\n"
     ]
    }
   ],
   "source": [
    "\n",
    "\n",
    "weights2 = [[0.1,-0.14,0.5],\n",
    "            [-0.5,0.12,-0.33],\n",
    "            [-0.44,0.73,-0.13]]\n",
    "\n",
    "biases2 = [-1,2,-0.5]\n",
    "\n",
    "layer1_outputs = np.dot(inputs,np.array(weights).T) + biases\n",
    "\n",
    "layer2_outputs = np.dot(layer1_outputs , np.array(weights2).T) + biases2 \n",
    "\n",
    "print(layer2_outputs)"
   ]
  },
  {
   "cell_type": "code",
   "execution_count": 26,
   "id": "8aaee1ac",
   "metadata": {},
   "outputs": [
    {
     "name": "stdout",
     "output_type": "stream",
     "text": [
      "[[-0.00126082  0.01375158]\n",
      " [ 0.00545449  0.01595045]\n",
      " [ 0.00295563  0.01087262]]\n"
     ]
    }
   ],
   "source": [
    "#converting inputs into objects for cleaner and more dynamic code \n",
    "import numpy as np\n",
    "\n",
    "X = [[1,2,3,2.5],\n",
    "    [2,5,1,2],\n",
    "    [-1.5,2.7,3.3,-0.8]]\n",
    "\n",
    "np.random.seed(0)\n",
    "\n",
    "class Layer_Dense :\n",
    "    def __init__(self,n_inputs,n_neurons):\n",
    "        self.weights = 0.10*np.random.randn(n_inputs,n_neurons)\n",
    "        self.biases = np.zeros((1,n_neurons))\n",
    "\n",
    "    def forward(self,inputs):\n",
    "        self.output=(np.dot(inputs,self.weights)) + self.biases\n",
    "\n",
    "layer1=Layer_Dense(4,5)\n",
    "layer2=Layer_Dense(5,5)\n",
    "layer3=Layer_Dense(5,2)\n",
    "\n",
    "layer1.forward(X)\n",
    "#print(layer1.output)\n",
    "\n",
    "layer2.forward(layer1.output)\n",
    "#print(layer2.output)\n",
    "\n",
    "\n",
    "layer3.forward(layer2.output)\n",
    "print(layer3.output)\n"
   ]
  },
  {
   "cell_type": "code",
   "execution_count": 2,
   "id": "b511e467",
   "metadata": {},
   "outputs": [
    {
     "name": "stdout",
     "output_type": "stream",
     "text": [
      "[0.2, 0, 3.3, 0, 1.1, 2.2, 0]\n"
     ]
    }
   ],
   "source": [
    "#sample code for RELU activation function\n",
    "inputs = [0.2,-1,3.3,-2.7,1.1,2.2,-100]\n",
    "output=[]\n",
    "\n",
    "for i in inputs :\n",
    "    if i > 0:\n",
    "        output.append(i)\n",
    "    else:\n",
    "        output.append(0)\n",
    "\n",
    "print(output)"
   ]
  },
  {
   "cell_type": "code",
   "execution_count": 3,
   "id": "02dc86b3",
   "metadata": {},
   "outputs": [],
   "source": [
    "\n",
    "        "
   ]
  },
  {
   "cell_type": "code",
   "execution_count": 15,
   "id": "85ab2ac6",
   "metadata": {},
   "outputs": [
    {
     "data": {
      "image/png": "[encoded data removed]",
      "text/plain": [
       "<Figure size 432x288 with 1 Axes>"
      ]
     },
     "metadata": {
      "needs_background": "light"
     },
     "output_type": "display_data"
    }
   ],
   "source": [
    "import numpy as np\n",
    "import matplotlib.pyplot as plt\n",
    "\n",
    "def spiral_data(points, classes):\n",
    "    X = np.zeros((points*classes, 2))\n",
    "    y = np.zeros(points*classes, dtype='uint8')\n",
    "    for class_number in range(classes):\n",
    "        ix = range(points*class_number, points*(class_number+1))\n",
    "        r = np.linspace(0.0, 1, points)  # radius\n",
    "        t = np.linspace(class_number*4, (class_number+1)*4, points) + np.random.randn(points)*0.2\n",
    "        X[ix] = np.c_[r*np.sin(t*2.5), r*np.cos(t*2.5)]\n",
    "        y[ix] = class_number\n",
    "    return X, y\n",
    "\n",
    "X,y=spiral_data(100,3)\n",
    "\n",
    "plt.scatter(X[:,0],X[:,1])\n",
    "plt.show()\n",
    "\n",
    "#plt.scatter(X[:,0],X[:,1])"
   ]
  },
  {
   "cell_type": "code",
   "execution_count": 18,
   "id": "c0289c4d",
   "metadata": {},
   "outputs": [
    {
     "data": {
      "image/png": "[encoded data removed]",
      "text/plain": [
       "<Figure size 432x288 with 1 Axes>"
      ]
     },
     "metadata": {
      "needs_background": "light"
     },
     "output_type": "display_data"
    }
   ],
   "source": [
    "plt.scatter(X[:,0],X[:,1],c=y,cmap=\"brg\")\n",
    "plt.show()"
   ]
  },
  {
   "cell_type": "code",
   "execution_count": 22,
   "id": "1b893b4b",
   "metadata": {},
   "outputs": [
    {
     "name": "stdout",
     "output_type": "stream",
     "text": [
      "[[0.00000000e+00 0.00000000e+00 0.00000000e+00 0.00000000e+00\n",
      "  0.00000000e+00]\n",
      " [0.00000000e+00 0.00000000e+00 0.00000000e+00 4.65504505e-04\n",
      "  4.56846210e-05]\n",
      " [0.00000000e+00 5.93469958e-05 0.00000000e+00 2.03573116e-04\n",
      "  6.10024377e-04]\n",
      " ...\n",
      " [1.13291524e-01 0.00000000e+00 0.00000000e+00 8.11079666e-02\n",
      "  0.00000000e+00]\n",
      " [1.34588361e-01 0.00000000e+00 3.09493970e-02 5.66337556e-02\n",
      "  0.00000000e+00]\n",
      " [1.07817926e-01 0.00000000e+00 0.00000000e+00 8.72561932e-02\n",
      "  0.00000000e+00]]\n"
     ]
    }
   ],
   "source": [
    "import nnfs\n",
    "from nnfs.datasets import spiral_data\n",
    "\n",
    "\n",
    "class Layer_Dense :\n",
    "    def __init__(self,n_inputs,n_neurons):\n",
    "        self.weights = 0.10*np.random.randn(n_inputs,n_neurons)\n",
    "        self.biases = np.zeros((1,n_neurons))\n",
    "\n",
    "    def forward(self,inputs):\n",
    "        self.output=(np.dot(inputs,self.weights)) + self.biases\n",
    "\n",
    "class Activation_ReLU:\n",
    "    def forward(self,inputs):\n",
    "        self.output=np.maximum(0,inputs)\n",
    "\n",
    "nnfs.init()\n",
    "\n",
    "X,y=spiral_data(100,3)\n",
    "\n",
    "layer1=Layer_Dense(2,5)\n",
    "activation1 = Activation_ReLU()\n",
    "\n",
    "layer1.forward(X)\n",
    "\n",
    "#print(layer1.output)\n",
    "activation1.forward(layer1.output)\n",
    "print(activation1.output)\n",
    "\n"
   ]
  },
  {
   "cell_type": "code",
   "execution_count": 27,
   "id": "9b3ddabb",
   "metadata": {},
   "outputs": [],
   "source": [
    "#softmax activation\n",
    "import math\n",
    "\n",
    "layer_outputs =[4.8,1.21,2.385]\n",
    "\n",
    "E=math.e        #euler's constant\n",
    "exp_values = []\n",
    "\n",
    "for output in layer_outputs :\n",
    "    exp_values.append(math.pow(E,output))\n",
    "\n"
   ]
  },
  {
   "cell_type": "code",
   "execution_count": 28,
   "id": "56c295fa",
   "metadata": {},
   "outputs": [
    {
     "name": "stdout",
     "output_type": "stream",
     "text": [
      "[0.8952826639572619, 0.024708306782099374, 0.0800090292606387]\n"
     ]
    }
   ],
   "source": [
    "#normalization for getting probability as output\n",
    "\n",
    "norm_base = sum(exp_values)\n",
    "norm_values = []\n",
    "\n",
    "for value in exp_values :\n",
    "    norm_values.append(value/norm_base)\n",
    "\n",
    "\n",
    "print(norm_values)\n"
   ]
  },
  {
   "cell_type": "code",
   "execution_count": 46,
   "id": "a499606c",
   "metadata": {},
   "outputs": [
    {
     "data": {
      "text/plain": [
       "'One problem with exponential function is that the values start getting very large pretty soon. This can give us value overflow errors. To counter this\\nproblem , we subtract the max value from each value. input_matrix -max(input_matrix) . This will converge our input values from -inf to 0. This is turn will\\nbound our output values from 0 to 1, thus preventing value overflow'"
      ]
     },
     "execution_count": 46,
     "metadata": {},
     "output_type": "execute_result"
    }
   ],
   "source": [
    "'''One problem with exponential function is that the values start getting very large pretty soon. This can give us value overflow errors. To counter this\n",
    "problem , we subtract the max value from each value. input_matrix -max(input_matrix) . This will converge our input values from -inf to 0. This is turn will\n",
    "bound our output values from 0 to 1, thus preventing value overflow'''"
   ]
  },
  {
   "cell_type": "code",
   "execution_count": 47,
   "id": "765f3ff0",
   "metadata": {},
   "outputs": [],
   "source": [
    "class Activation_Softmax :\n",
    "    def forward(self,inputs):\n",
    "        exp_values = np.exp(inputs-np.max(inputs,axis=1,keepdims=True))\n",
    "        probabilities = exp_values/np.sum(exp_values,axis=1,keepdims=True)\n",
    "        self.output=probabilities"
   ]
  },
  {
   "cell_type": "code",
   "execution_count": 48,
   "id": "dc1c453b",
   "metadata": {},
   "outputs": [
    {
     "name": "stdout",
     "output_type": "stream",
     "text": [
      "[[0.33333334 0.33333334 0.33333334]\n",
      " [0.33335358 0.33331478 0.33333158]\n",
      " [0.33336082 0.33334157 0.33329764]\n",
      " [0.33332664 0.33334664 0.33332676]\n",
      " [0.33336064 0.33334154 0.3332978 ]\n",
      " [0.33337802 0.33330065 0.33332136]\n",
      " [0.33362088 0.33341962 0.33295947]\n",
      " [0.33333278 0.3333344  0.33333278]\n",
      " [0.3335336  0.33339345 0.33307293]\n",
      " [0.3335047  0.3333848  0.33311045]\n",
      " [0.3334584  0.33337086 0.33317074]\n",
      " [0.3340248  0.3335405  0.3324347 ]\n",
      " [0.33332357 0.33335268 0.33332372]\n",
      " [0.33393088 0.33351243 0.3325567 ]\n",
      " [0.33418655 0.33358878 0.33222467]\n",
      " [0.3340491  0.33354774 0.33240315]\n",
      " [0.33413702 0.333574   0.33228898]\n",
      " [0.33424833 0.33360723 0.33214444]\n",
      " [0.3339159  0.33350796 0.33257622]\n",
      " [0.3345216  0.3336886  0.33178985]\n",
      " [0.33465272 0.33372754 0.33161974]\n",
      " [0.33471096 0.33374485 0.33154422]\n",
      " [0.3347623  0.33376008 0.33147758]\n",
      " [0.33482522 0.33377877 0.33139607]\n",
      " [0.3349164  0.33380583 0.33127776]\n",
      " [0.33439398 0.33361548 0.33199057]\n",
      " [0.3346677  0.333732   0.33160025]\n",
      " [0.3349094  0.33380374 0.33128685]\n",
      " [0.3350335  0.33384052 0.331126  ]\n",
      " [0.33423504 0.33279562 0.3329693 ]\n",
      " [0.33471856 0.33374712 0.33153433]\n",
      " [0.3341167  0.33247706 0.3334062 ]\n",
      " [0.33543584 0.33395943 0.33060476]\n",
      " [0.33445284 0.33290103 0.33264613]\n",
      " [0.33447582 0.33286554 0.33265862]\n",
      " [0.33444723 0.3321608  0.33339196]\n",
      " [0.33535433 0.33393538 0.33071032]\n",
      " [0.3344809  0.33264163 0.33287746]\n",
      " [0.33429158 0.3322858  0.3334226 ]\n",
      " [0.33450195 0.3325369  0.3329611 ]\n",
      " [0.33470824 0.33193335 0.33335838]\n",
      " [0.33445838 0.33211872 0.3334229 ]\n",
      " [0.33449087 0.33221903 0.3332901 ]\n",
      " [0.33476552 0.33190054 0.333334  ]\n",
      " [0.33477846 0.33189356 0.33332798]\n",
      " [0.3348481  0.33181232 0.33333954]\n",
      " [0.33471832 0.3318604  0.3334213 ]\n",
      " [0.33494368 0.33167937 0.3333769 ]\n",
      " [0.3347691  0.33193156 0.3332993 ]\n",
      " [0.3346547  0.3320662  0.33327913]\n",
      " [0.3341355  0.3326327  0.33323184]\n",
      " [0.3350096  0.33166334 0.333327  ]\n",
      " [0.33508494 0.3315746  0.3333405 ]\n",
      " [0.33405378 0.33272803 0.33321822]\n",
      " [0.33502087 0.33167204 0.3333071 ]\n",
      " [0.333704   0.3330992  0.3331968 ]\n",
      " [0.3332047  0.33361468 0.33318067]\n",
      " [0.33373007 0.3330776  0.33319226]\n",
      " [0.33430654 0.33247536 0.33321813]\n",
      " [0.33375496 0.33305725 0.33318776]\n",
      " [0.3331909  0.33361626 0.33319286]\n",
      " [0.3333812  0.33344793 0.3331709 ]\n",
      " [0.33487698 0.3337941  0.33132893]\n",
      " [0.33401725 0.332795   0.33318773]\n",
      " [0.33382684 0.33299637 0.33317676]\n",
      " [0.33358377 0.33325058 0.33316562]\n",
      " [0.33318117 0.3336356  0.33318326]\n",
      " [0.33446082 0.33233887 0.3332003 ]\n",
      " [0.3332372  0.33352432 0.3332385 ]\n",
      " [0.33326724 0.33346462 0.33326817]\n",
      " [0.33395547 0.33351976 0.33252475]\n",
      " [0.33518255 0.3338846  0.3309329 ]\n",
      " [0.33326793 0.33346325 0.33326882]\n",
      " [0.33694917 0.33440307 0.32864782]\n",
      " [0.33814704 0.33475    0.327103  ]\n",
      " [0.33569196 0.33403492 0.33027318]\n",
      " [0.3383326  0.3348034  0.32686397]\n",
      " [0.33732152 0.33451128 0.3281672 ]\n",
      " [0.33820757 0.33476743 0.32702494]\n",
      " [0.3385473  0.33486512 0.32658762]\n",
      " [0.33501384 0.33383465 0.33115146]\n",
      " [0.33834693 0.33480754 0.32684556]\n",
      " [0.3385574  0.334868   0.3265746 ]\n",
      " [0.33875284 0.33492407 0.3263231 ]\n",
      " [0.3388602  0.33495483 0.32618502]\n",
      " [0.33771244 0.33462456 0.327663  ]\n",
      " [0.33888048 0.3349606  0.3261589 ]\n",
      " [0.33889565 0.33496496 0.3261394 ]\n",
      " [0.33841616 0.33482742 0.3267564 ]\n",
      " [0.33898312 0.33498996 0.32602692]\n",
      " [0.33844268 0.33483505 0.3267222 ]\n",
      " [0.3369973  0.33357948 0.32942325]\n",
      " [0.33714634 0.33396617 0.32888752]\n",
      " [0.33887658 0.3349595  0.32616395]\n",
      " [0.33905452 0.33501038 0.32593507]\n",
      " [0.33830273 0.33479482 0.32690245]\n",
      " [0.3369641  0.33291483 0.3301211 ]\n",
      " [0.33695558 0.33279246 0.33025196]\n",
      " [0.33743355 0.33415928 0.3284072 ]\n",
      " [0.33707017 0.33288172 0.33004808]\n",
      " [0.33333334 0.33333334 0.33333334]\n",
      " [0.33336183 0.33330268 0.33333546]\n",
      " [0.33338502 0.33327696 0.33333802]\n",
      " [0.3334482  0.333325   0.33322677]\n",
      " [0.33345503 0.33320397 0.33334097]\n",
      " [0.33349875 0.33316794 0.33333328]\n",
      " [0.3334955  0.33315772 0.33334678]\n",
      " [0.33354864 0.33312178 0.33332965]\n",
      " [0.33359936 0.3330561  0.33334452]\n",
      " [0.33364096 0.33302164 0.33333746]\n",
      " [0.33367282 0.3329907  0.33333647]\n",
      " [0.33356538 0.3331195  0.3333151 ]\n",
      " [0.33371493 0.33295575 0.33332935]\n",
      " [0.33377448 0.33287716 0.33334836]\n",
      " [0.33380964 0.33284146 0.3333489 ]\n",
      " [0.3338429  0.3328067  0.33335036]\n",
      " [0.3338778  0.33277115 0.33335102]\n",
      " [0.3337241  0.33296803 0.3333079 ]\n",
      " [0.33389395 0.33278114 0.3333249 ]\n",
      " [0.33369884 0.33300212 0.33329904]\n",
      " [0.33382866 0.33286455 0.3333068 ]\n",
      " [0.33381847 0.33287948 0.33330205]\n",
      " [0.33368987 0.3330211  0.33328906]\n",
      " [0.33328247 0.3334343  0.3332832 ]\n",
      " [0.33330572 0.33338815 0.3333061 ]\n",
      " [0.33328235 0.33343455 0.33328304]\n",
      " [0.33363253 0.33309335 0.33327413]\n",
      " [0.33332473 0.3333504  0.33332485]\n",
      " [0.33333334 0.33333334 0.33333334]\n",
      " [0.3333268  0.33334637 0.33332685]\n",
      " [0.33327472 0.33344972 0.33327553]\n",
      " [0.33379504 0.3334718  0.33273318]\n",
      " [0.33372316 0.3334503  0.33282658]\n",
      " [0.33406234 0.33265662 0.33328107]\n",
      " [0.33440593 0.33365417 0.33193994]\n",
      " [0.33324027 0.33351824 0.33324155]\n",
      " [0.33488178 0.33379555 0.33132264]\n",
      " [0.33428913 0.33361936 0.3320915 ]\n",
      " [0.33564892 0.33402225 0.3303288 ]\n",
      " [0.33485407 0.33378732 0.3313586 ]\n",
      " [0.3342111  0.3335961  0.3321928 ]\n",
      " [0.33529216 0.33391702 0.33079082]\n",
      " [0.3361003  0.33415493 0.32974473]\n",
      " [0.33586013 0.3340844  0.3300555 ]\n",
      " [0.33595824 0.3341132  0.32992855]\n",
      " [0.33629116 0.33421084 0.32949796]\n",
      " [0.33635974 0.33423093 0.32940933]\n",
      " [0.33642375 0.33424968 0.32932654]\n",
      " [0.33575022 0.33405206 0.33019766]\n",
      " [0.33540848 0.33386478 0.33072674]\n",
      " [0.33618274 0.3341791  0.32963812]\n",
      " [0.33664462 0.33431423 0.32904118]\n",
      " [0.3352734  0.33304676 0.33167982]\n",
      " [0.33537823 0.3332183  0.3314035 ]\n",
      " [0.3355519  0.3336398  0.3308083 ]\n",
      " [0.3369373  0.33439958 0.32866308]\n",
      " [0.33570513 0.33394036 0.33035448]\n",
      " [0.3365263  0.3342797  0.32919404]\n",
      " [0.33574808 0.33378258 0.33046934]\n",
      " [0.33541748 0.3327323  0.3318502 ]\n",
      " [0.33540198 0.3326124  0.33198565]\n",
      " [0.33571464 0.3332772  0.33100817]\n",
      " [0.33537936 0.3311999  0.33342078]\n",
      " [0.3365482  0.33428606 0.32916573]\n",
      " [0.3353972  0.33116895 0.33343387]\n",
      " [0.3362966  0.33421245 0.3294909 ]\n",
      " [0.33548322 0.33108416 0.33343253]\n",
      " [0.335169   0.33176425 0.3330668 ]\n",
      " [0.33565524 0.33098823 0.3333565 ]\n",
      " [0.33567202 0.33091727 0.33341068]\n",
      " [0.3357416  0.33087996 0.33337846]\n",
      " [0.3354496  0.33108038 0.33347005]\n",
      " [0.33573958 0.3308345  0.33342594]\n",
      " [0.33573857 0.33093747 0.33332393]\n",
      " [0.33546093 0.33127242 0.33326665]\n",
      " [0.33319733 0.3336034  0.33319923]\n",
      " [0.33548686 0.33125263 0.3332605 ]\n",
      " [0.3345799  0.33224288 0.3331772 ]\n",
      " [0.3360076  0.33059004 0.33340234]\n",
      " [0.33602896 0.33061332 0.3333577 ]\n",
      " [0.33540633 0.33136007 0.33323362]\n",
      " [0.33590275 0.3307982  0.333299  ]\n",
      " [0.3331789  0.33364007 0.333181  ]\n",
      " [0.3348912  0.33192992 0.33317885]\n",
      " [0.3332384  0.3335219  0.3332397 ]\n",
      " [0.33330494 0.33338973 0.33330536]\n",
      " [0.3334741  0.33341974 0.33310613]\n",
      " [0.33317494 0.33364797 0.33317712]\n",
      " [0.33309892 0.33379894 0.33310214]\n",
      " [0.333271   0.33345717 0.33327186]\n",
      " [0.33330485 0.33338994 0.33330527]\n",
      " [0.33320922 0.33357987 0.33321095]\n",
      " [0.3333589  0.33334103 0.33330008]\n",
      " [0.33735526 0.33452106 0.32812372]\n",
      " [0.33522683 0.33389768 0.33087543]\n",
      " [0.33468682 0.33373767 0.3315755 ]\n",
      " [0.33470413 0.33374283 0.33155307]\n",
      " [0.33328184 0.3334356  0.33328256]\n",
      " [0.33332944 0.33334106 0.33332947]\n",
      " [0.33713192 0.3344562  0.32841188]\n",
      " [0.33333334 0.33333334 0.33333334]\n",
      " [0.33334494 0.33333683 0.33331826]\n",
      " [0.3334605  0.33337152 0.33316797]\n",
      " [0.33352908 0.3333921  0.33307883]\n",
      " [0.3333412  0.3333357  0.3333231 ]\n",
      " [0.3336562  0.33343023 0.33291364]\n",
      " [0.33365738 0.3334306  0.33291203]\n",
      " [0.3337564  0.33346024 0.33278334]\n",
      " [0.33382717 0.33348143 0.33269143]\n",
      " [0.3338936  0.33350125 0.33260512]\n",
      " [0.33374044 0.33345547 0.33280408]\n",
      " [0.3340404  0.33354518 0.33241448]\n",
      " [0.33407077 0.33355424 0.332375  ]\n",
      " [0.33409145 0.3335604  0.33234814]\n",
      " [0.33388558 0.33333966 0.3327748 ]\n",
      " [0.33424369 0.33360583 0.3321505 ]\n",
      " [0.3341466  0.33357686 0.33227655]\n",
      " [0.33410668 0.33356497 0.33232838]\n",
      " [0.33446556 0.33367193 0.33186248]\n",
      " [0.33380124 0.332832   0.3333668 ]\n",
      " [0.33390272 0.33272174 0.33337554]\n",
      " [0.33400872 0.33298576 0.33300546]\n",
      " [0.33416656 0.33324617 0.3325872 ]\n",
      " [0.33427972 0.33347195 0.33224836]\n",
      " [0.3343134  0.33345106 0.33223552]\n",
      " [0.33418953 0.33245325 0.33335727]\n",
      " [0.3342191  0.33241954 0.33336133]\n",
      " [0.33399782 0.33260423 0.33339798]\n",
      " [0.33450842 0.33359176 0.33189982]\n",
      " [0.33509472 0.33385864 0.33104664]\n",
      " [0.3342832  0.3328083  0.3329085 ]\n",
      " [0.33431405 0.3322996  0.33338636]\n",
      " [0.33431712 0.33236736 0.33331555]\n",
      " [0.33434954 0.33225653 0.33339387]\n",
      " [0.33447465 0.33218804 0.3333373 ]\n",
      " [0.33423913 0.3324702  0.33329064]\n",
      " [0.334538   0.33212593 0.3333361 ]\n",
      " [0.33458084 0.3320795  0.33333966]\n",
      " [0.33458754 0.3320247  0.3333878 ]\n",
      " [0.33466312 0.33196265 0.3333743 ]\n",
      " [0.33431098 0.3324106  0.33327845]\n",
      " [0.33451828 0.33218327 0.3332984 ]\n",
      " [0.33430222 0.3324276  0.33327022]\n",
      " [0.3343075  0.33242542 0.3332671 ]\n",
      " [0.33372596 0.33304614 0.33322793]\n",
      " [0.33453193 0.33218613 0.33328193]\n",
      " [0.33417404 0.33257926 0.33324668]\n",
      " [0.33333334 0.33333334 0.33333334]\n",
      " [0.3342523  0.3325019  0.33324584]\n",
      " [0.333718   0.33306825 0.3332138 ]\n",
      " [0.33381382 0.33297125 0.333215  ]\n",
      " [0.33325365 0.33349162 0.33325472]\n",
      " [0.33333334 0.33333334 0.33333334]\n",
      " [0.3332144  0.3335967  0.33318892]\n",
      " [0.33321327 0.3335718  0.33321497]\n",
      " [0.33325908 0.3334808  0.33326012]\n",
      " [0.33369148 0.33344078 0.33286774]\n",
      " [0.33324826 0.33350226 0.33324945]\n",
      " [0.33333164 0.33333668 0.3333317 ]\n",
      " [0.33386576 0.33294207 0.33319217]\n",
      " [0.33323833 0.33352205 0.33323964]\n",
      " [0.3344494  0.3336671  0.33188346]\n",
      " [0.33650526 0.3342735  0.32922122]\n",
      " [0.33596915 0.3341164  0.32991442]\n",
      " [0.33371648 0.3334483  0.33283523]\n",
      " [0.33350968 0.3333863  0.33310404]\n",
      " [0.3368237  0.33436647 0.3288098 ]\n",
      " [0.33384883 0.33348787 0.3326633 ]\n",
      " [0.337821   0.3346559  0.32752302]\n",
      " [0.3375389  0.3345743  0.3278868 ]\n",
      " [0.3353117  0.33392277 0.3307655 ]\n",
      " [0.33689737 0.33438796 0.32871467]\n",
      " [0.33753785 0.334574   0.32788813]\n",
      " [0.3377555  0.334637   0.32760745]\n",
      " [0.337175   0.33446875 0.32835627]\n",
      " [0.33812097 0.33474246 0.32713655]\n",
      " [0.3383401  0.33480558 0.32685432]\n",
      " [0.3384135  0.33482668 0.3267598 ]\n",
      " [0.33645317 0.33348182 0.33006507]\n",
      " [0.33752438 0.33457008 0.32790554]\n",
      " [0.3385194  0.33485708 0.32662353]\n",
      " [0.33768618 0.33461696 0.3276969 ]\n",
      " [0.33821148 0.33476856 0.3270199 ]\n",
      " [0.33699474 0.3344163  0.328589  ]\n",
      " [0.3355268  0.3312481  0.3332251 ]\n",
      " [0.33618113 0.33213726 0.33168164]\n",
      " [0.33628395 0.33034483 0.33337122]\n",
      " [0.33546975 0.3309917  0.33353856]\n",
      " [0.3368713  0.3335555  0.3295732 ]\n",
      " [0.336203   0.33032602 0.33347097]\n",
      " [0.33640817 0.33017173 0.33342007]\n",
      " [0.336465   0.3301399  0.33339503]\n",
      " [0.33632386 0.3318585  0.3318177 ]\n",
      " [0.33624026 0.3302673  0.33349246]\n",
      " [0.33641508 0.33027014 0.33331475]\n",
      " [0.33639914 0.33176777 0.33183312]\n",
      " [0.33648542 0.3300454  0.3334692 ]\n",
      " [0.3359552  0.33050042 0.3335443 ]\n",
      " [0.33653608 0.32998872 0.33347523]\n",
      " [0.33662808 0.32990995 0.33346194]]\n"
     ]
    }
   ],
   "source": [
    "from nnfs.datasets import spiral_data\n",
    "\n",
    "\n",
    "class Layer_Dense :\n",
    "    def __init__(self,n_inputs,n_neurons):\n",
    "        self.weights = 0.10*np.random.randn(n_inputs,n_neurons)\n",
    "        self.biases = np.zeros((1,n_neurons))\n",
    "\n",
    "    def forward(self,inputs):\n",
    "        self.output=(np.dot(inputs,self.weights)) + self.biases\n",
    "\n",
    "class Activation_ReLU:\n",
    "    def forward(self,inputs):\n",
    "        self.output=np.maximum(0,inputs)\n",
    "\n",
    "class Activation_Softmax :\n",
    "    def forward(self,inputs):\n",
    "        exp_values = np.exp(inputs-np.max(inputs,axis=1,keepdims=True))\n",
    "        probabilities = exp_values/np.sum(exp_values,axis=1,keepdims=True)\n",
    "        self.output=probabilities\n",
    "\n",
    "X,y = spiral_data(samples=100,classes=3)\n",
    "\n",
    "dense1 = Layer_Dense(2,3)\n",
    "activation1 = Activation_ReLU()\n",
    "\n",
    "dense2 = Layer_Dense(3,3)\n",
    "activation2=Activation_Softmax()\n",
    "\n",
    "dense1.forward(X)\n",
    "activation1.forward(dense1.output)\n",
    "\n",
    "dense2.forward(activation1.output)\n",
    "activation2.forward(dense2.output)\n",
    "\n",
    "print(activation2.output)\n",
    "\n"
   ]
  },
  {
   "cell_type": "code",
   "execution_count": 54,
   "id": "ca5d8a90",
   "metadata": {},
   "outputs": [
    {
     "name": "stdout",
     "output_type": "stream",
     "text": [
      "0.35667494393873245\n"
     ]
    }
   ],
   "source": [
    "#categorical cross entropy = -log(y^).y  where (y^ = predicted value,y = actual value)\n",
    "\n",
    "'''If the model's confidence is higher on the correct class, the loss function will be lower and if the model has high confidence on the\n",
    "wrong class, the loss function will give a high value. The loss function will vary from -inf to 0'''\n",
    "\n",
    "softmax_output = [0.7,0.1,0.2]\n",
    "target_output = [1,0,0]\n",
    "\n",
    "\n",
    "loss=-(math.log(softmax_output[0])*target_output[0] + \n",
    "        math.log(softmax_output[1])*target_output[1] + \n",
    "        math.log(softmax_output[2])*target_output[2])\n",
    "\n",
    "print(loss)\n"
   ]
  },
  {
   "cell_type": "code",
   "execution_count": 53,
   "id": "a9b6a2eb",
   "metadata": {},
   "outputs": [
    {
     "name": "stdout",
     "output_type": "stream",
     "text": [
      "0.35667494393873245\n"
     ]
    }
   ],
   "source": [
    "loss = -(math.log(softmax_output[0]))\n",
    "print(loss)"
   ]
  },
  {
   "cell_type": "code",
   "execution_count": 61,
   "id": "8f92f524",
   "metadata": {},
   "outputs": [
    {
     "name": "stdout",
     "output_type": "stream",
     "text": [
      "0.38506088005216804\n"
     ]
    }
   ],
   "source": [
    "#using batch inputs with loss function\n",
    "import numpy as np\n",
    "\n",
    "softmax_outputs = np.array ([[0.7,1.1,0.2],\n",
    "                            [0.1,0.5,0.4],\n",
    "                            [0.02,0.9,0.08]])\n",
    "class_targets = [0,1,1]\n",
    "\n",
    "neg_log = -np.log(softmax_outputs[range(len(softmax_outputs)),class_targets])\n",
    "\n",
    "average_loss = np.mean(neg_log)\n",
    "\n",
    "print(average_loss)"
   ]
  },
  {
   "cell_type": "code",
   "execution_count": 62,
   "id": "b5b87c0d",
   "metadata": {},
   "outputs": [
    {
     "data": {
      "text/plain": [
       "'We have a problem here,if our model has 0 confidence for the right target class , we will face the log0 error (log0 = inf).\\nTo deal with this, we are using the numpy.clip() function , which will clip our values between a lower and a higher range.\\nValues smaller than lower range will be made equal to lower range and values larger than high range will be made equal to high range'"
      ]
     },
     "execution_count": 62,
     "metadata": {},
     "output_type": "execute_result"
    }
   ],
   "source": [
    "'''We have a problem here,if our model has 0 confidence for the right target class , we will face the log0 error (log0 = inf).\n",
    "To deal with this, we are using the numpy.clip() function , which will clip our values between a lower and a higher range.\n",
    "Values smaller than lower range will be made equal to lower range and values larger than high range will be made equal to high range'''"
   ]
  },
  {
   "cell_type": "code",
   "execution_count": null,
   "id": "0ffae8ce",
   "metadata": {},
   "outputs": [],
   "source": [
    "class Loss :\n",
    "    def calculate(self,output,y):\n",
    "        sample_losses = self.forward(output,y)\n",
    "        data_loss = np.mean(sample_losses)\n",
    "        return data_loss\n",
    "\n",
    "class Loss_Categorical_Cross_Entropy(Loss) :\n",
    "    def forward(self,y_pred,y_true) :\n",
    "        samples = len(y_pred)\n",
    "        y_pred_clipped = np.clip(y_pred , 1e-7,1-1e-7)\n",
    "\n",
    "        if len(y_true.shape) == 1 :\n",
    "            correct_confidences  = y_pred_clipped[range(samples) , y_true]\n",
    "        \n",
    "        else :\n",
    "            correct_confidences = np.sum(y_pred_clipped*y_true,axis=1)\n",
    "\n",
    "        negative_log_likelihood = -np.log(correct_confidences)\n",
    "\n",
    "        return negative_log_likelihood\n",
    "\n"
   ]
  },
  {
   "cell_type": "code",
   "execution_count": 64,
   "id": "249d63b6",
   "metadata": {},
   "outputs": [
    {
     "name": "stdout",
     "output_type": "stream",
     "text": [
      "1.0986089\n"
     ]
    }
   ],
   "source": [
    "from nnfs.datasets import spiral_data\n",
    "\n",
    "\n",
    "class Layer_Dense :\n",
    "    def __init__(self,n_inputs,n_neurons):\n",
    "        self.weights = 0.10*np.random.randn(n_inputs,n_neurons)\n",
    "        self.biases = np.zeros((1,n_neurons))\n",
    "\n",
    "    def forward(self,inputs):\n",
    "        self.output=(np.dot(inputs,self.weights)) + self.biases\n",
    "\n",
    "class Activation_ReLU:\n",
    "    def forward(self,inputs):\n",
    "        self.output=np.maximum(0,inputs)\n",
    "\n",
    "class Activation_Softmax :\n",
    "    def forward(self,inputs):\n",
    "        exp_values = np.exp(inputs-np.max(inputs,axis=1,keepdims=True))\n",
    "        probabilities = exp_values/np.sum(exp_values,axis=1,keepdims=True)\n",
    "        self.output=probabilities\n",
    "\n",
    "class Loss :\n",
    "    def calculate(self,output,y):\n",
    "        sample_losses = self.forward(output,y)\n",
    "        data_loss = np.mean(sample_losses)\n",
    "        return data_loss\n",
    "\n",
    "class Loss_Categorical_Cross_Entropy(Loss) :\n",
    "    def forward(self,y_pred,y_true) :\n",
    "        samples = len(y_pred)\n",
    "        y_pred_clipped = np.clip(y_pred , 1e-7,1-1e-7)\n",
    "\n",
    "        if len(y_true.shape) == 1 :\n",
    "            correct_confidences  = y_pred_clipped[range(samples) , y_true]\n",
    "        \n",
    "        else :\n",
    "            correct_confidences = np.sum(y_pred_clipped*y_true,axis=1)\n",
    "\n",
    "        negative_log_likelihood = -np.log(correct_confidences)\n",
    "\n",
    "        return negative_log_likelihood\n",
    "\n",
    "X,y = spiral_data(samples=100,classes=3)\n",
    "\n",
    "dense1 = Layer_Dense(2,3)\n",
    "activation1 = Activation_ReLU()\n",
    "\n",
    "dense2 = Layer_Dense(3,3)\n",
    "activation2=Activation_Softmax()\n",
    "\n",
    "dense1.forward(X)\n",
    "activation1.forward(dense1.output)\n",
    "\n",
    "dense2.forward(activation1.output)\n",
    "activation2.forward(dense2.output)\n",
    "\n",
    "loss_function = Loss_Categorical_Cross_Entropy()\n",
    "loss = loss_function.calculate(activation2.output,y)\n",
    "\n",
    "print(loss)\n",
    "\n"
   ]
  },
  {
   "cell_type": "code",
   "execution_count": 65,
   "id": "6924b7b4",
   "metadata": {},
   "outputs": [
    {
     "data": {
      "image/png": "[encoded data removed]",
      "text/plain": [
       "<Figure size 432x288 with 1 Axes>"
      ]
     },
     "metadata": {
      "needs_background": "light"
     },
     "output_type": "display_data"
    }
   ],
   "source": [
    "import matplotlib.pyplot as plt\n",
    "from nnfs.datasets import vertical_data\n",
    "\n",
    "nnfs.init()\n",
    "\n",
    "X,y = vertical_data(samples=100,classes=3)\n",
    "\n",
    "plt.scatter(X[:,0],X[:,1],c=y,s=40,cmap=\"brg\")\n",
    "\n",
    "plt.show()"
   ]
  },
  {
   "cell_type": "code",
   "execution_count": 72,
   "id": "a9620f81",
   "metadata": {},
   "outputs": [
    {
     "data": {
      "image/png": "[encoded data removed]",
      "text/plain": [
       "<Figure size 432x288 with 1 Axes>"
      ]
     },
     "metadata": {
      "needs_background": "light"
     },
     "output_type": "display_data"
    }
   ],
   "source": [
    "import numpy as np\n",
    "import matplotlib.pyplot as plt\n",
    "\n",
    "def spiral_data(points, classes):\n",
    "    X = np.zeros((points*classes, 2))\n",
    "    y = np.zeros(points*classes, dtype='uint8')\n",
    "    for class_number in range(classes):\n",
    "        ix = range(points*class_number, points*(class_number+1))\n",
    "        r = np.linspace(0.0, 1, points)  # radius\n",
    "        t = np.linspace(class_number*4, (class_number+1)*4, points) + np.random.randn(points)*0.2\n",
    "        X[ix] = np.c_[r*np.sin(t*2.5), r*np.cos(t*2.5)]\n",
    "        y[ix] = class_number\n",
    "    return X, y\n",
    "\n",
    "X,y=spiral_data(100,3)\n",
    "\n",
    "plt.scatter(X[:,0],X[:,1],c=y,cmap=\"brg\")\n",
    "plt.show()"
   ]
  },
  {
   "cell_type": "code",
   "execution_count": null,
   "id": "f5befcfe",
   "metadata": {},
   "outputs": [],
   "source": []
  },
  {
   "cell_type": "code",
   "execution_count": null,
   "id": "fb4e3bbc",
   "metadata": {},
   "outputs": [],
   "source": []
  },
  {
   "cell_type": "code",
   "execution_count": null,
   "id": "3b9d639d",
   "metadata": {},
   "outputs": [],
   "source": []
  },
  {
   "cell_type": "code",
   "execution_count": null,
   "id": "c7898ee1",
   "metadata": {},
   "outputs": [],
   "source": []
  }
 ],
 "metadata": {
  "kernelspec": {
   "display_name": "Python 3 (ipykernel)",
   "language": "python",
   "name": "python3"
  },
  "language_info": {
   "codemirror_mode": {
    "name": "ipython",
    "version": 3
   },
   "file_extension": ".py",
   "mimetype": "text/x-python",
   "name": "python",
   "nbconvert_exporter": "python",
   "pygments_lexer": "ipython3",
   "version": "3.9.7"
  }
 },
 "nbformat": 4,
 "nbformat_minor": 5
}
